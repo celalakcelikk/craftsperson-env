{
 "cells": [
  {
   "cell_type": "markdown",
   "metadata": {},
   "source": [
    "# What is it?"
   ]
  },
  {
   "cell_type": "markdown",
   "metadata": {},
   "source": [
    "**craftsperson_env** reads configuration files in **yaml**, **env**, **toml**, **xml**, and **json** formats and adds them to the **'os.environ'** system. It formats the keys according to **naming-case-type**, **upper** or **lower**, and arranges them with a **specific join type in the upper-lower section**. Additionally, it specifies the data type when retrieving data from 'os.environ' to access data of that type. "
   ]
  },
  {
   "cell_type": "markdown",
   "metadata": {},
   "source": [
    "# Where to get it"
   ]
  },
  {
   "cell_type": "markdown",
   "metadata": {
    "ExecuteTime": {
     "end_time": "2024-02-07T20:41:01.942254Z",
     "start_time": "2024-02-07T20:41:01.935615Z"
    }
   },
   "source": [
    "You can access the <a href=\"https://github.com/celalakcelikk/craftsperson-env\">Github</a> repository from here.\n",
    "\n",
    "Pip installers for the latest released version are available at the <a href=\"https://pypi.org/project/craftsperson-env\">Python Package Index (PyPI)</a>"
   ]
  },
  {
   "cell_type": "markdown",
   "metadata": {},
   "source": [
    "# Installion"
   ]
  },
  {
   "cell_type": "raw",
   "metadata": {},
   "source": [
    "python setup.py install"
   ]
  },
  {
   "cell_type": "raw",
   "metadata": {},
   "source": [
    "pip install craftsperson-env"
   ]
  },
  {
   "cell_type": "markdown",
   "metadata": {},
   "source": [
    "# Import Library"
   ]
  },
  {
   "cell_type": "code",
   "execution_count": 1,
   "metadata": {
    "ExecuteTime": {
     "end_time": "2024-02-07T21:42:40.019880Z",
     "start_time": "2024-02-07T21:42:39.989216Z"
    }
   },
   "outputs": [],
   "source": [
    "from craftsperson_env import CraftsEnvConfig"
   ]
  },
  {
   "cell_type": "markdown",
   "metadata": {},
   "source": [
    "# Create Config Variable "
   ]
  },
  {
   "cell_type": "code",
   "execution_count": 2,
   "metadata": {
    "ExecuteTime": {
     "end_time": "2024-02-07T21:42:41.665133Z",
     "start_time": "2024-02-07T21:42:41.662425Z"
    }
   },
   "outputs": [],
   "source": [
    "config = CraftsEnvConfig()"
   ]
  },
  {
   "cell_type": "markdown",
   "metadata": {},
   "source": [
    "# Load File"
   ]
  },
  {
   "cell_type": "markdown",
   "metadata": {},
   "source": [
    "**Description**"
   ]
  },
  {
   "cell_type": "markdown",
   "metadata": {},
   "source": [
    "Help on method load_config_file in module craftsperson_env.main:\n",
    "\n",
    "load_config_file(file_path: str, root_full_path: str = './', naming_case_type: str = None, naming_case_join_type: str = '', is_change_config_env_format: bool = False, config_env_replace_first_value: str = None, is_remove_xml_first_level: bool = False, extra_config_file_params: dict = {}) method of craftsperson_env.main.CraftsEnvConfig instance\n",
    "    This function processes and uses a config file.\n",
    "    \n",
    "    Parameters\n",
    "    ----------\n",
    "    file_path : str\n",
    "        This parameter specifies the file location path.\n",
    "    root_full_path : str, optional\n",
    "        This parameter retrieves the full path from the file. The default is './'.\n",
    "    naming_case_type : str, optional\n",
    "        This parameter specifies naming case types for env, yaml, json, xml, or toml. The default is None.\n",
    "    naming_case_join_type : str, optional.\n",
    "        This parameter specifies the join type, allowing values such as \"\", \"-\", or \"_\". The default is \"\".\n",
    "    is_change_config_env_format: bool, optional.\n",
    "        This parameter specifies whether the format of the env config file has been changed.\n",
    "            The default value is False.\n",
    "    config_env_replace_first_value: str, optional.\n",
    "        This parameter specifies the replacement value for the first occurrence. The default is None.\n",
    "    is_remove_xml_first_level : bool, optional\n",
    "        This parameter determines whether to remove the first level. The default value is False.\n",
    "    extra_config_file_params : dict, optional\n",
    "        This parameter retrieves additional XML or TOML configuration parameters. The default value is {}.\n",
    "    \n",
    "    Returns\n",
    "    -------\n",
    "    None."
   ]
  },
  {
   "cell_type": "markdown",
   "metadata": {
    "heading_collapsed": true
   },
   "source": [
    "## Yaml File Use Case"
   ]
  },
  {
   "cell_type": "raw",
   "metadata": {
    "hidden": true
   },
   "source": [
    "version: 2.0\n",
    "application:\n",
    "  name: MyWebApp\n",
    "  version: 1.2.3\n",
    "  environment: production\n",
    "  base_url: \"https://mywebapp.example.com\"\n",
    "  allowed_hosts:\n",
    "    - mywebapp.example.com\n",
    "    - api.mywebapp.example.com\n",
    "  options:\n",
    "    use_ssl: true\n",
    "    ssl_cert: \"/path/to/cert\"\n",
    "json_format: \"{'test': 1}\""
   ]
  },
  {
   "cell_type": "code",
   "execution_count": 3,
   "metadata": {
    "ExecuteTime": {
     "end_time": "2024-02-07T21:14:09.458099Z",
     "start_time": "2024-02-07T21:14:09.456117Z"
    },
    "hidden": true
   },
   "outputs": [],
   "source": [
    "config.load_config_file(\n",
    "    file_path=\"yaml_config_file.yaml\",\n",
    "    root_full_path = \"./\",\n",
    "    naming_case_type=\"upper\",\n",
    "    naming_case_join_type = \".\",\n",
    ")"
   ]
  },
  {
   "cell_type": "code",
   "execution_count": 4,
   "metadata": {
    "ExecuteTime": {
     "end_time": "2024-02-07T21:14:09.461829Z",
     "start_time": "2024-02-07T21:14:09.458747Z"
    },
    "hidden": true
   },
   "outputs": [
    {
     "data": {
      "text/plain": [
       "['VERSION',\n",
       " 'APPLICATION.NAME',\n",
       " 'APPLICATION.VERSION',\n",
       " 'APPLICATION.ENVIRONMENT',\n",
       " 'APPLICATION.BASE_URL',\n",
       " 'APPLICATION.ALLOWED_HOSTS',\n",
       " 'APPLICATION.OPTIONS.USE_SSL',\n",
       " 'APPLICATION.OPTIONS.SSL_CERT',\n",
       " 'JSON_FORMAT']"
      ]
     },
     "execution_count": 4,
     "metadata": {},
     "output_type": "execute_result"
    }
   ],
   "source": [
    "import os\n",
    "key_list = list(os.environ.keys())[-9:]\n",
    "key_list"
   ]
  },
  {
   "cell_type": "markdown",
   "metadata": {
    "heading_collapsed": true
   },
   "source": [
    "## Xml File Use Case"
   ]
  },
  {
   "cell_type": "raw",
   "metadata": {
    "hidden": true
   },
   "source": [
    "<config>\n",
    "  <version>2.0</version>\n",
    "  <application>\n",
    "    <name>MyWebApp</name>\n",
    "    <version>1.2.3</version>\n",
    "    <environment>production</environment>\n",
    "    <base_url>https://mywebapp.example.com</base_url>\n",
    "    <allowed_hosts>\n",
    "      <host>mywebapp.example.com</host>\n",
    "      <host>api.mywebapp.example.com</host>\n",
    "    </allowed_hosts>\n",
    "    <options>\n",
    "      <use_ssl>true</use_ssl>\n",
    "      <ssl_cert>/path/to/cert</ssl_cert>\n",
    "    </options>\n",
    "  </application>\n",
    "  <json_format>\n",
    "    {'test': 1}\n",
    "  </json_format>\n",
    "</config>"
   ]
  },
  {
   "cell_type": "markdown",
   "metadata": {
    "hidden": true
   },
   "source": [
    "The **is_remove_xml_first_level** default value is **False**. "
   ]
  },
  {
   "cell_type": "code",
   "execution_count": 5,
   "metadata": {
    "ExecuteTime": {
     "end_time": "2024-02-07T21:14:09.464152Z",
     "start_time": "2024-02-07T21:14:09.462519Z"
    },
    "hidden": true
   },
   "outputs": [],
   "source": [
    "config.load_config_file(\n",
    "    file_path=\"xml_config_file.xml\",\n",
    "    root_full_path = \"./\",\n",
    "    naming_case_type=\"upper\",\n",
    "    naming_case_join_type = \".\",\n",
    "    is_remove_xml_first_level=False,\n",
    "    extra_config_file_params={}\n",
    ")"
   ]
  },
  {
   "cell_type": "code",
   "execution_count": 6,
   "metadata": {
    "ExecuteTime": {
     "end_time": "2024-02-07T21:14:09.466567Z",
     "start_time": "2024-02-07T21:14:09.464747Z"
    },
    "hidden": true
   },
   "outputs": [
    {
     "data": {
      "text/plain": [
       "['CONFIG.VERSION',\n",
       " 'CONFIG.APPLICATION.NAME',\n",
       " 'CONFIG.APPLICATION.VERSION',\n",
       " 'CONFIG.APPLICATION.ENVIRONMENT',\n",
       " 'CONFIG.APPLICATION.BASE_URL',\n",
       " 'CONFIG.APPLICATION.ALLOWED_HOSTS.HOST',\n",
       " 'CONFIG.APPLICATION.OPTIONS.USE_SSL',\n",
       " 'CONFIG.APPLICATION.OPTIONS.SSL_CERT',\n",
       " 'CONFIG.JSON_FORMAT']"
      ]
     },
     "execution_count": 6,
     "metadata": {},
     "output_type": "execute_result"
    }
   ],
   "source": [
    "import os\n",
    "key_list = list(os.environ.keys())[-9:]\n",
    "key_list"
   ]
  },
  {
   "cell_type": "markdown",
   "metadata": {
    "hidden": true
   },
   "source": [
    "The **is_remove_xml_first_level** is **True**, which removes the first level."
   ]
  },
  {
   "cell_type": "code",
   "execution_count": 7,
   "metadata": {
    "ExecuteTime": {
     "end_time": "2024-02-07T21:14:09.469443Z",
     "start_time": "2024-02-07T21:14:09.467590Z"
    },
    "hidden": true
   },
   "outputs": [],
   "source": [
    "config.load_config_file(\n",
    "    file_path=\"xml_config_file.xml\",\n",
    "    root_full_path = \"./\",\n",
    "    naming_case_type=\"upper\",\n",
    "    naming_case_join_type = \".\",\n",
    "    is_remove_xml_first_level=True,\n",
    "    extra_config_file_params={}\n",
    ")"
   ]
  },
  {
   "cell_type": "code",
   "execution_count": 8,
   "metadata": {
    "ExecuteTime": {
     "end_time": "2024-02-07T21:14:09.471938Z",
     "start_time": "2024-02-07T21:14:09.470086Z"
    },
    "hidden": true
   },
   "outputs": [
    {
     "data": {
      "text/plain": [
       "['CONFIG.APPLICATION.NAME',\n",
       " 'CONFIG.APPLICATION.VERSION',\n",
       " 'CONFIG.APPLICATION.ENVIRONMENT',\n",
       " 'CONFIG.APPLICATION.BASE_URL',\n",
       " 'CONFIG.APPLICATION.ALLOWED_HOSTS.HOST',\n",
       " 'CONFIG.APPLICATION.OPTIONS.USE_SSL',\n",
       " 'CONFIG.APPLICATION.OPTIONS.SSL_CERT',\n",
       " 'CONFIG.JSON_FORMAT',\n",
       " 'APPLICATION.ALLOWED_HOSTS.HOST']"
      ]
     },
     "execution_count": 8,
     "metadata": {},
     "output_type": "execute_result"
    }
   ],
   "source": [
    "import os\n",
    "key_list = list(os.environ.keys())[-9:]\n",
    "key_list"
   ]
  },
  {
   "cell_type": "markdown",
   "metadata": {
    "heading_collapsed": true
   },
   "source": [
    "## Toml File Use Case"
   ]
  },
  {
   "cell_type": "raw",
   "metadata": {
    "hidden": true
   },
   "source": [
    "version = \"2.0\"\n",
    "json_format = \"{'test': 1}\"\n",
    "\n",
    "[application]\n",
    "name = \"MyWebApp\"\n",
    "version = \"1.2.3\"\n",
    "environment = \"production\"\n",
    "base_url = \"https://mywebapp.example.com\"\n",
    "allowed_hosts = [\"mywebapp.example.com\", \"api.mywebapp.example.com\"]\n",
    "\n",
    "[application.options]\n",
    "use_ssl = true\n",
    "ssl_cert = \"/path/to/cert\""
   ]
  },
  {
   "cell_type": "code",
   "execution_count": 3,
   "metadata": {
    "ExecuteTime": {
     "end_time": "2024-02-07T21:14:56.203454Z",
     "start_time": "2024-02-07T21:14:56.197628Z"
    },
    "hidden": true
   },
   "outputs": [],
   "source": [
    "config.load_config_file(\n",
    "    file_path=\"toml_config_file.toml\",\n",
    "    root_full_path = \"./\",\n",
    "    naming_case_type=\"upper\",\n",
    "    naming_case_join_type = \".\",\n",
    ")"
   ]
  },
  {
   "cell_type": "code",
   "execution_count": 4,
   "metadata": {
    "ExecuteTime": {
     "end_time": "2024-02-07T21:14:56.517611Z",
     "start_time": "2024-02-07T21:14:56.507227Z"
    },
    "hidden": true
   },
   "outputs": [
    {
     "data": {
      "text/plain": [
       "['VERSION',\n",
       " 'JSON_FORMAT',\n",
       " 'APPLICATION.NAME',\n",
       " 'APPLICATION.VERSION',\n",
       " 'APPLICATION.ENVIRONMENT',\n",
       " 'APPLICATION.BASE_URL',\n",
       " 'APPLICATION.ALLOWED_HOSTS',\n",
       " 'APPLICATION.OPTIONS.USE_SSL',\n",
       " 'APPLICATION.OPTIONS.SSL_CERT']"
      ]
     },
     "execution_count": 4,
     "metadata": {},
     "output_type": "execute_result"
    }
   ],
   "source": [
    "import os\n",
    "key_list = list(os.environ.keys())[-9:]\n",
    "key_list"
   ]
  },
  {
   "cell_type": "markdown",
   "metadata": {
    "heading_collapsed": true
   },
   "source": [
    "## Json File Use Case"
   ]
  },
  {
   "cell_type": "raw",
   "metadata": {
    "hidden": true
   },
   "source": [
    "{\n",
    "    \"version\": \"2.0\",\n",
    "    \"application\": {\n",
    "      \"name\": \"MyWebApp\",\n",
    "      \"version\": \"1.2.3\",\n",
    "      \"environment\": \"production\",\n",
    "      \"base_url\": \"https://mywebapp.example.com\",\n",
    "      \"allowed_hosts\": [\"mywebapp.example.com\", \"api.mywebapp.example.com\"],\n",
    "      \"options\": {\n",
    "        \"use_ssl\": true,\n",
    "        \"ssl_cert\": \"/path/to/cert\"\n",
    "      }\n",
    "    },\n",
    "    \"json_format\": \"{'test': 1}\"\n",
    "}"
   ]
  },
  {
   "cell_type": "code",
   "execution_count": 3,
   "metadata": {
    "ExecuteTime": {
     "end_time": "2024-02-07T21:18:03.076066Z",
     "start_time": "2024-02-07T21:18:03.071330Z"
    },
    "hidden": true
   },
   "outputs": [],
   "source": [
    "config.load_config_file(\n",
    "    file_path=\"json_config_file.json\",\n",
    "    root_full_path = \"./\",\n",
    "    naming_case_type=\"upper\",\n",
    "    naming_case_join_type = \".\",\n",
    ")"
   ]
  },
  {
   "cell_type": "code",
   "execution_count": 4,
   "metadata": {
    "ExecuteTime": {
     "end_time": "2024-02-07T21:18:03.556544Z",
     "start_time": "2024-02-07T21:18:03.545700Z"
    },
    "hidden": true
   },
   "outputs": [
    {
     "data": {
      "text/plain": [
       "['VERSION',\n",
       " 'APPLICATION.NAME',\n",
       " 'APPLICATION.VERSION',\n",
       " 'APPLICATION.ENVIRONMENT',\n",
       " 'APPLICATION.BASE_URL',\n",
       " 'APPLICATION.ALLOWED_HOSTS',\n",
       " 'APPLICATION.OPTIONS.USE_SSL',\n",
       " 'APPLICATION.OPTIONS.SSL_CERT',\n",
       " 'JSON_FORMAT']"
      ]
     },
     "execution_count": 4,
     "metadata": {},
     "output_type": "execute_result"
    }
   ],
   "source": [
    "import os\n",
    "key_list = list(os.environ.keys())[-9:]\n",
    "key_list"
   ]
  },
  {
   "cell_type": "markdown",
   "metadata": {
    "heading_collapsed": true
   },
   "source": [
    "## Env File Use Case"
   ]
  },
  {
   "cell_type": "raw",
   "metadata": {
    "hidden": true
   },
   "source": [
    "VERSION=2.0\n",
    "APPLICATION_NAME=MyWebApp\n",
    "APPLICATION_VERSION=1.2.3\n",
    "APPLICATION_ENVIRONMENT=production\n",
    "APPLICATION_BASE_URL=https://mywebapp.example.com\n",
    "APPLICATION_ALLOWED_HOSTS=mywebapp.example.com,api.mywebapp.example.com\n",
    "APPLICATION_OPTIONS_USE_SSL=true\n",
    "APPLICATION_OPTIONS_SSL_CERT=/path/to/cert\n",
    "JSON_FORMAT=\"{'test': 1}\""
   ]
  },
  {
   "cell_type": "markdown",
   "metadata": {
    "ExecuteTime": {
     "end_time": "2024-02-07T21:25:46.414230Z",
     "start_time": "2024-02-07T21:25:46.409056Z"
    },
    "hidden": true
   },
   "source": [
    "The **is_change_config_env_format** default value is **False**."
   ]
  },
  {
   "cell_type": "code",
   "execution_count": 3,
   "metadata": {
    "ExecuteTime": {
     "end_time": "2024-02-07T21:31:00.098246Z",
     "start_time": "2024-02-07T21:31:00.092211Z"
    },
    "hidden": true
   },
   "outputs": [],
   "source": [
    "config.load_config_file(\n",
    "    file_path=\"env_config_file.env\",\n",
    "    root_full_path = \"./\",\n",
    "    naming_case_type=\"upper\",\n",
    "    is_change_config_env_format=False,\n",
    ")"
   ]
  },
  {
   "cell_type": "code",
   "execution_count": 4,
   "metadata": {
    "ExecuteTime": {
     "end_time": "2024-02-07T21:31:00.471944Z",
     "start_time": "2024-02-07T21:31:00.462103Z"
    },
    "hidden": true
   },
   "outputs": [
    {
     "data": {
      "text/plain": [
       "['VERSION',\n",
       " 'APPLICATION_NAME',\n",
       " 'APPLICATION_VERSION',\n",
       " 'APPLICATION_ENVIRONMENT',\n",
       " 'APPLICATION_BASE_URL',\n",
       " 'APPLICATION_ALLOWED_HOSTS',\n",
       " 'APPLICATION_OPTIONS_USE_SSL',\n",
       " 'APPLICATION_OPTIONS_SSL_CERT',\n",
       " 'JSON_FORMAT']"
      ]
     },
     "execution_count": 4,
     "metadata": {},
     "output_type": "execute_result"
    }
   ],
   "source": [
    "import os\n",
    "key_list = list(os.environ.keys())[-9:]\n",
    "key_list"
   ]
  },
  {
   "cell_type": "markdown",
   "metadata": {
    "ExecuteTime": {
     "end_time": "2024-02-07T21:25:46.414230Z",
     "start_time": "2024-02-07T21:25:46.409056Z"
    },
    "hidden": true
   },
   "source": [
    "The **is_change_config_env_format** is **True**, which changes env format.\n",
    "\n",
    "The **config_env_replace_first_value** is **\"_\"**, which replacement value for the first occurrence. "
   ]
  },
  {
   "cell_type": "code",
   "execution_count": 3,
   "metadata": {
    "ExecuteTime": {
     "end_time": "2024-02-07T21:30:35.770080Z",
     "start_time": "2024-02-07T21:30:35.763113Z"
    },
    "hidden": true
   },
   "outputs": [],
   "source": [
    "config.load_config_file(\n",
    "    file_path=\"env_config_file.env\",\n",
    "    root_full_path = \"./\",\n",
    "    naming_case_type=\"upper\",\n",
    "    naming_case_join_type=\".\",\n",
    "    is_change_config_env_format=True,\n",
    "    config_env_replace_first_value=\"_\"\n",
    ")"
   ]
  },
  {
   "cell_type": "code",
   "execution_count": 4,
   "metadata": {
    "ExecuteTime": {
     "end_time": "2024-02-07T21:30:36.411461Z",
     "start_time": "2024-02-07T21:30:36.399847Z"
    },
    "hidden": true
   },
   "outputs": [
    {
     "data": {
      "text/plain": [
       "['VERSION',\n",
       " 'APPLICATION.NAME',\n",
       " 'APPLICATION.VERSION',\n",
       " 'APPLICATION.ENVIRONMENT',\n",
       " 'APPLICATION.BASE.URL',\n",
       " 'APPLICATION.ALLOWED.HOSTS',\n",
       " 'APPLICATION.OPTIONS.USE.SSL',\n",
       " 'APPLICATION.OPTIONS.SSL.CERT',\n",
       " 'JSON.FORMAT']"
      ]
     },
     "execution_count": 4,
     "metadata": {},
     "output_type": "execute_result"
    }
   ],
   "source": [
    "import os\n",
    "key_list = list(os.environ.keys())[-9:]\n",
    "key_list"
   ]
  },
  {
   "cell_type": "markdown",
   "metadata": {},
   "source": [
    "## Naming Case Type Use Case"
   ]
  },
  {
   "cell_type": "markdown",
   "metadata": {
    "heading_collapsed": true
   },
   "source": [
    "### Pascal Case"
   ]
  },
  {
   "cell_type": "code",
   "execution_count": 3,
   "metadata": {
    "ExecuteTime": {
     "end_time": "2024-02-07T21:35:50.991267Z",
     "start_time": "2024-02-07T21:35:50.985267Z"
    },
    "hidden": true
   },
   "outputs": [],
   "source": [
    "config.load_config_file(\n",
    "    file_path=\"json_config_file.json\",\n",
    "    root_full_path = \"./\",\n",
    "    naming_case_type=\"pascal\"\n",
    ")"
   ]
  },
  {
   "cell_type": "code",
   "execution_count": 4,
   "metadata": {
    "ExecuteTime": {
     "end_time": "2024-02-07T21:35:51.326576Z",
     "start_time": "2024-02-07T21:35:51.316279Z"
    },
    "hidden": true,
    "scrolled": true
   },
   "outputs": [
    {
     "data": {
      "text/plain": [
       "['Version',\n",
       " 'ApplicationName',\n",
       " 'ApplicationVersion',\n",
       " 'ApplicationEnvironment',\n",
       " 'ApplicationBase_url',\n",
       " 'ApplicationAllowed_hosts',\n",
       " 'ApplicationOptionsUse_ssl',\n",
       " 'ApplicationOptionsSsl_cert',\n",
       " 'Json_format']"
      ]
     },
     "execution_count": 4,
     "metadata": {},
     "output_type": "execute_result"
    }
   ],
   "source": [
    "import os\n",
    "key_list = list(os.environ.keys())[-9:]\n",
    "key_list"
   ]
  },
  {
   "cell_type": "markdown",
   "metadata": {
    "heading_collapsed": true
   },
   "source": [
    "### Camel Case"
   ]
  },
  {
   "cell_type": "code",
   "execution_count": 3,
   "metadata": {
    "ExecuteTime": {
     "end_time": "2024-02-07T21:36:05.822438Z",
     "start_time": "2024-02-07T21:36:05.817494Z"
    },
    "hidden": true
   },
   "outputs": [],
   "source": [
    "config.load_config_file(\n",
    "    file_path=\"json_config_file.json\",\n",
    "    root_full_path = \"./\",\n",
    "    naming_case_type=\"camel\"\n",
    ")"
   ]
  },
  {
   "cell_type": "code",
   "execution_count": 4,
   "metadata": {
    "ExecuteTime": {
     "end_time": "2024-02-07T21:36:06.275889Z",
     "start_time": "2024-02-07T21:36:06.269285Z"
    },
    "hidden": true,
    "scrolled": true
   },
   "outputs": [
    {
     "data": {
      "text/plain": [
       "['version',\n",
       " 'applicationName',\n",
       " 'applicationVersion',\n",
       " 'applicationEnvironment',\n",
       " 'applicationBase_url',\n",
       " 'applicationAllowed_hosts',\n",
       " 'applicationOptionsUse_ssl',\n",
       " 'applicationOptionsSsl_cert',\n",
       " 'json_format']"
      ]
     },
     "execution_count": 4,
     "metadata": {},
     "output_type": "execute_result"
    }
   ],
   "source": [
    "import os\n",
    "key_list = list(os.environ.keys())[-9:]\n",
    "key_list"
   ]
  },
  {
   "cell_type": "markdown",
   "metadata": {
    "heading_collapsed": true
   },
   "source": [
    "### Snake Case"
   ]
  },
  {
   "cell_type": "code",
   "execution_count": 5,
   "metadata": {
    "ExecuteTime": {
     "end_time": "2024-02-07T21:36:05.822438Z",
     "start_time": "2024-02-07T21:36:05.817494Z"
    },
    "hidden": true
   },
   "outputs": [],
   "source": [
    "config.load_config_file(\n",
    "    file_path=\"json_config_file.json\",\n",
    "    root_full_path = \"./\",\n",
    "    naming_case_type=\"snake\"\n",
    ")"
   ]
  },
  {
   "cell_type": "code",
   "execution_count": 6,
   "metadata": {
    "ExecuteTime": {
     "end_time": "2024-02-07T21:36:06.275889Z",
     "start_time": "2024-02-07T21:36:06.269285Z"
    },
    "hidden": true,
    "scrolled": true
   },
   "outputs": [
    {
     "data": {
      "text/plain": [
       "['applicationOptionsSsl_cert',\n",
       " 'json_format',\n",
       " 'application_name',\n",
       " 'application_version',\n",
       " 'application_environment',\n",
       " 'application_base_url',\n",
       " 'application_allowed_hosts',\n",
       " 'application_options_use_ssl',\n",
       " 'application_options_ssl_cert']"
      ]
     },
     "execution_count": 6,
     "metadata": {},
     "output_type": "execute_result"
    }
   ],
   "source": [
    "import os\n",
    "key_list = list(os.environ.keys())[-9:]\n",
    "key_list"
   ]
  },
  {
   "cell_type": "markdown",
   "metadata": {
    "heading_collapsed": true
   },
   "source": [
    "### Kebab Case"
   ]
  },
  {
   "cell_type": "code",
   "execution_count": 3,
   "metadata": {
    "ExecuteTime": {
     "end_time": "2024-02-07T21:35:26.697773Z",
     "start_time": "2024-02-07T21:35:26.693151Z"
    },
    "hidden": true
   },
   "outputs": [],
   "source": [
    "config.load_config_file(\n",
    "    file_path=\"json_config_file.json\",\n",
    "    root_full_path = \"./\",\n",
    "    naming_case_type=\"kebab\"\n",
    ")"
   ]
  },
  {
   "cell_type": "code",
   "execution_count": 4,
   "metadata": {
    "ExecuteTime": {
     "end_time": "2024-02-07T21:35:27.198301Z",
     "start_time": "2024-02-07T21:35:27.190600Z"
    },
    "hidden": true,
    "scrolled": false
   },
   "outputs": [
    {
     "data": {
      "text/plain": [
       "['version',\n",
       " 'application-name',\n",
       " 'application-version',\n",
       " 'application-environment',\n",
       " 'application-base_url',\n",
       " 'application-allowed_hosts',\n",
       " 'application-options-use_ssl',\n",
       " 'application-options-ssl_cert',\n",
       " 'json_format']"
      ]
     },
     "execution_count": 4,
     "metadata": {},
     "output_type": "execute_result"
    }
   ],
   "source": [
    "import os\n",
    "key_list = list(os.environ.keys())[-9:]\n",
    "key_list"
   ]
  },
  {
   "cell_type": "markdown",
   "metadata": {
    "heading_collapsed": true
   },
   "source": [
    "### Flat Case"
   ]
  },
  {
   "cell_type": "code",
   "execution_count": 3,
   "metadata": {
    "ExecuteTime": {
     "end_time": "2024-02-07T21:36:56.933211Z",
     "start_time": "2024-02-07T21:36:56.928596Z"
    },
    "hidden": true
   },
   "outputs": [],
   "source": [
    "config.load_config_file(\n",
    "    file_path=\"json_config_file.json\",\n",
    "    root_full_path = \"./\",\n",
    "    naming_case_type=\"flat\"\n",
    ")"
   ]
  },
  {
   "cell_type": "code",
   "execution_count": 4,
   "metadata": {
    "ExecuteTime": {
     "end_time": "2024-02-07T21:36:58.125818Z",
     "start_time": "2024-02-07T21:36:58.118443Z"
    },
    "hidden": true,
    "scrolled": false
   },
   "outputs": [
    {
     "data": {
      "text/plain": [
       "['version',\n",
       " 'applicationname',\n",
       " 'applicationversion',\n",
       " 'applicationenvironment',\n",
       " 'applicationbase_url',\n",
       " 'applicationallowed_hosts',\n",
       " 'applicationoptionsuse_ssl',\n",
       " 'applicationoptionsssl_cert',\n",
       " 'json_format']"
      ]
     },
     "execution_count": 4,
     "metadata": {},
     "output_type": "execute_result"
    }
   ],
   "source": [
    "import os\n",
    "key_list = list(os.environ.keys())[-9:]\n",
    "key_list"
   ]
  },
  {
   "cell_type": "markdown",
   "metadata": {
    "heading_collapsed": true
   },
   "source": [
    "### Upper-Flat Case"
   ]
  },
  {
   "cell_type": "code",
   "execution_count": 3,
   "metadata": {
    "ExecuteTime": {
     "end_time": "2024-02-07T21:37:28.434327Z",
     "start_time": "2024-02-07T21:37:28.428319Z"
    },
    "hidden": true
   },
   "outputs": [],
   "source": [
    "config.load_config_file(\n",
    "    file_path=\"json_config_file.json\",\n",
    "    root_full_path = \"./\",\n",
    "    naming_case_type=\"upper-flat\"\n",
    ")"
   ]
  },
  {
   "cell_type": "code",
   "execution_count": 4,
   "metadata": {
    "ExecuteTime": {
     "end_time": "2024-02-07T21:37:28.990553Z",
     "start_time": "2024-02-07T21:37:28.983193Z"
    },
    "hidden": true,
    "scrolled": false
   },
   "outputs": [
    {
     "data": {
      "text/plain": [
       "['VERSION',\n",
       " 'APPLICATIONNAME',\n",
       " 'APPLICATIONVERSION',\n",
       " 'APPLICATIONENVIRONMENT',\n",
       " 'APPLICATIONBASE_URL',\n",
       " 'APPLICATIONALLOWED_HOSTS',\n",
       " 'APPLICATIONOPTIONSUSE_SSL',\n",
       " 'APPLICATIONOPTIONSSSL_CERT',\n",
       " 'JSON_FORMAT']"
      ]
     },
     "execution_count": 4,
     "metadata": {},
     "output_type": "execute_result"
    }
   ],
   "source": [
    "import os\n",
    "key_list = list(os.environ.keys())[-9:]\n",
    "key_list"
   ]
  },
  {
   "cell_type": "markdown",
   "metadata": {
    "heading_collapsed": true
   },
   "source": [
    "### Pascal-Snake Case"
   ]
  },
  {
   "cell_type": "code",
   "execution_count": 3,
   "metadata": {
    "ExecuteTime": {
     "end_time": "2024-02-07T21:38:06.541219Z",
     "start_time": "2024-02-07T21:38:06.536646Z"
    },
    "hidden": true
   },
   "outputs": [],
   "source": [
    "config.load_config_file(\n",
    "    file_path=\"json_config_file.json\",\n",
    "    root_full_path = \"./\",\n",
    "    naming_case_type=\"pascal-snake\"\n",
    ")"
   ]
  },
  {
   "cell_type": "code",
   "execution_count": 4,
   "metadata": {
    "ExecuteTime": {
     "end_time": "2024-02-07T21:38:07.233332Z",
     "start_time": "2024-02-07T21:38:07.225427Z"
    },
    "hidden": true,
    "scrolled": false
   },
   "outputs": [
    {
     "data": {
      "text/plain": [
       "['Version',\n",
       " 'Application_Name',\n",
       " 'Application_Version',\n",
       " 'Application_Environment',\n",
       " 'Application_Base_url',\n",
       " 'Application_Allowed_hosts',\n",
       " 'Application_Options_Use_ssl',\n",
       " 'Application_Options_Ssl_cert',\n",
       " 'Json_format']"
      ]
     },
     "execution_count": 4,
     "metadata": {},
     "output_type": "execute_result"
    }
   ],
   "source": [
    "import os\n",
    "key_list = list(os.environ.keys())[-9:]\n",
    "key_list"
   ]
  },
  {
   "cell_type": "markdown",
   "metadata": {
    "heading_collapsed": true
   },
   "source": [
    "### Camel-Snake Case"
   ]
  },
  {
   "cell_type": "code",
   "execution_count": 3,
   "metadata": {
    "ExecuteTime": {
     "end_time": "2024-02-07T21:38:39.740287Z",
     "start_time": "2024-02-07T21:38:39.736039Z"
    },
    "hidden": true
   },
   "outputs": [],
   "source": [
    "config.load_config_file(\n",
    "    file_path=\"json_config_file.json\",\n",
    "    root_full_path = \"./\",\n",
    "    naming_case_type=\"camel-snake\"\n",
    ")"
   ]
  },
  {
   "cell_type": "code",
   "execution_count": 4,
   "metadata": {
    "ExecuteTime": {
     "end_time": "2024-02-07T21:38:40.371531Z",
     "start_time": "2024-02-07T21:38:40.362905Z"
    },
    "hidden": true,
    "scrolled": false
   },
   "outputs": [
    {
     "data": {
      "text/plain": [
       "['version',\n",
       " 'application_Name',\n",
       " 'application_Version',\n",
       " 'application_Environment',\n",
       " 'application_Base_url',\n",
       " 'application_Allowed_hosts',\n",
       " 'application_Options_Use_ssl',\n",
       " 'application_Options_Ssl_cert',\n",
       " 'json_format']"
      ]
     },
     "execution_count": 4,
     "metadata": {},
     "output_type": "execute_result"
    }
   ],
   "source": [
    "import os\n",
    "key_list = list(os.environ.keys())[-9:]\n",
    "key_list"
   ]
  },
  {
   "cell_type": "markdown",
   "metadata": {
    "heading_collapsed": true
   },
   "source": [
    "### Screaming-Snake Case"
   ]
  },
  {
   "cell_type": "code",
   "execution_count": 3,
   "metadata": {
    "ExecuteTime": {
     "end_time": "2024-02-07T21:39:24.469811Z",
     "start_time": "2024-02-07T21:39:24.466118Z"
    },
    "hidden": true
   },
   "outputs": [],
   "source": [
    "config.load_config_file(\n",
    "    file_path=\"json_config_file.json\",\n",
    "    root_full_path = \"./\",\n",
    "    naming_case_type=\"screaming-snake\"\n",
    ")"
   ]
  },
  {
   "cell_type": "code",
   "execution_count": 4,
   "metadata": {
    "ExecuteTime": {
     "end_time": "2024-02-07T21:39:26.068632Z",
     "start_time": "2024-02-07T21:39:26.064391Z"
    },
    "hidden": true,
    "scrolled": false
   },
   "outputs": [
    {
     "data": {
      "text/plain": [
       "['VERSION',\n",
       " 'APPLICATION_NAME',\n",
       " 'APPLICATION_VERSION',\n",
       " 'APPLICATION_ENVIRONMENT',\n",
       " 'APPLICATION_BASE_URL',\n",
       " 'APPLICATION_ALLOWED_HOSTS',\n",
       " 'APPLICATION_OPTIONS_USE_SSL',\n",
       " 'APPLICATION_OPTIONS_SSL_CERT',\n",
       " 'JSON_FORMAT']"
      ]
     },
     "execution_count": 4,
     "metadata": {},
     "output_type": "execute_result"
    }
   ],
   "source": [
    "import os\n",
    "key_list = list(os.environ.keys())[-9:]\n",
    "key_list"
   ]
  },
  {
   "cell_type": "markdown",
   "metadata": {
    "heading_collapsed": true
   },
   "source": [
    "### Train Case"
   ]
  },
  {
   "cell_type": "code",
   "execution_count": 3,
   "metadata": {
    "ExecuteTime": {
     "end_time": "2024-02-07T21:39:58.453912Z",
     "start_time": "2024-02-07T21:39:58.449710Z"
    },
    "hidden": true
   },
   "outputs": [],
   "source": [
    "config.load_config_file(\n",
    "    file_path=\"json_config_file.json\",\n",
    "    root_full_path = \"./\",\n",
    "    naming_case_type=\"train\"\n",
    ")"
   ]
  },
  {
   "cell_type": "code",
   "execution_count": 4,
   "metadata": {
    "ExecuteTime": {
     "end_time": "2024-02-07T21:39:58.900305Z",
     "start_time": "2024-02-07T21:39:58.891084Z"
    },
    "hidden": true,
    "scrolled": false
   },
   "outputs": [
    {
     "data": {
      "text/plain": [
       "['Version',\n",
       " 'Application-Name',\n",
       " 'Application-Version',\n",
       " 'Application-Environment',\n",
       " 'Application-Base_url',\n",
       " 'Application-Allowed_hosts',\n",
       " 'Application-Options-Use_ssl',\n",
       " 'Application-Options-Ssl_cert',\n",
       " 'Json_format']"
      ]
     },
     "execution_count": 4,
     "metadata": {},
     "output_type": "execute_result"
    }
   ],
   "source": [
    "import os\n",
    "key_list = list(os.environ.keys())[-9:]\n",
    "key_list"
   ]
  },
  {
   "cell_type": "markdown",
   "metadata": {
    "heading_collapsed": true
   },
   "source": [
    "### Cobol Case"
   ]
  },
  {
   "cell_type": "code",
   "execution_count": 3,
   "metadata": {
    "ExecuteTime": {
     "end_time": "2024-02-07T21:40:30.949347Z",
     "start_time": "2024-02-07T21:40:30.942832Z"
    },
    "hidden": true
   },
   "outputs": [],
   "source": [
    "config.load_config_file(\n",
    "    file_path=\"json_config_file.json\",\n",
    "    root_full_path = \"./\",\n",
    "    naming_case_type=\"cobol\"\n",
    ")"
   ]
  },
  {
   "cell_type": "code",
   "execution_count": 4,
   "metadata": {
    "ExecuteTime": {
     "end_time": "2024-02-07T21:40:31.309731Z",
     "start_time": "2024-02-07T21:40:31.298008Z"
    },
    "hidden": true,
    "scrolled": false
   },
   "outputs": [
    {
     "data": {
      "text/plain": [
       "['VERSION',\n",
       " 'APPLICATION-NAME',\n",
       " 'APPLICATION-VERSION',\n",
       " 'APPLICATION-ENVIRONMENT',\n",
       " 'APPLICATION-BASE_URL',\n",
       " 'APPLICATION-ALLOWED_HOSTS',\n",
       " 'APPLICATION-OPTIONS-USE_SSL',\n",
       " 'APPLICATION-OPTIONS-SSL_CERT',\n",
       " 'JSON_FORMAT']"
      ]
     },
     "execution_count": 4,
     "metadata": {},
     "output_type": "execute_result"
    }
   ],
   "source": [
    "import os\n",
    "key_list = list(os.environ.keys())[-9:]\n",
    "key_list"
   ]
  },
  {
   "cell_type": "markdown",
   "metadata": {
    "heading_collapsed": true
   },
   "source": [
    "### Other Case: Upper"
   ]
  },
  {
   "cell_type": "code",
   "execution_count": 3,
   "metadata": {
    "ExecuteTime": {
     "end_time": "2024-02-07T21:42:43.242942Z",
     "start_time": "2024-02-07T21:42:43.238445Z"
    },
    "hidden": true
   },
   "outputs": [],
   "source": [
    "config.load_config_file(\n",
    "    file_path=\"json_config_file.json\",\n",
    "    root_full_path = \"./\",\n",
    "    naming_case_type=\"upper\",\n",
    "    naming_case_join_type = \".\"\n",
    ")"
   ]
  },
  {
   "cell_type": "code",
   "execution_count": 4,
   "metadata": {
    "ExecuteTime": {
     "end_time": "2024-02-07T21:42:43.924475Z",
     "start_time": "2024-02-07T21:42:43.915724Z"
    },
    "hidden": true,
    "scrolled": false
   },
   "outputs": [
    {
     "data": {
      "text/plain": [
       "['VERSION',\n",
       " 'APPLICATION.NAME',\n",
       " 'APPLICATION.VERSION',\n",
       " 'APPLICATION.ENVIRONMENT',\n",
       " 'APPLICATION.BASE_URL',\n",
       " 'APPLICATION.ALLOWED_HOSTS',\n",
       " 'APPLICATION.OPTIONS.USE_SSL',\n",
       " 'APPLICATION.OPTIONS.SSL_CERT',\n",
       " 'JSON_FORMAT']"
      ]
     },
     "execution_count": 4,
     "metadata": {},
     "output_type": "execute_result"
    }
   ],
   "source": [
    "import os\n",
    "key_list = list(os.environ.keys())[-9:]\n",
    "key_list"
   ]
  },
  {
   "cell_type": "markdown",
   "metadata": {
    "heading_collapsed": true
   },
   "source": [
    "### Other Case: Lower"
   ]
  },
  {
   "cell_type": "code",
   "execution_count": 5,
   "metadata": {
    "ExecuteTime": {
     "end_time": "2024-02-07T21:43:04.025548Z",
     "start_time": "2024-02-07T21:43:04.020170Z"
    },
    "hidden": true
   },
   "outputs": [],
   "source": [
    "config.load_config_file(\n",
    "    file_path=\"json_config_file.json\",\n",
    "    root_full_path = \"./\",\n",
    "    naming_case_type=\"lower\",\n",
    "    naming_case_join_type = \".\"\n",
    ")"
   ]
  },
  {
   "cell_type": "code",
   "execution_count": 6,
   "metadata": {
    "ExecuteTime": {
     "end_time": "2024-02-07T21:43:04.448277Z",
     "start_time": "2024-02-07T21:43:04.442430Z"
    },
    "hidden": true,
    "scrolled": false
   },
   "outputs": [
    {
     "data": {
      "text/plain": [
       "['version',\n",
       " 'application.name',\n",
       " 'application.version',\n",
       " 'application.environment',\n",
       " 'application.base_url',\n",
       " 'application.allowed_hosts',\n",
       " 'application.options.use_ssl',\n",
       " 'application.options.ssl_cert',\n",
       " 'json_format']"
      ]
     },
     "execution_count": 6,
     "metadata": {},
     "output_type": "execute_result"
    }
   ],
   "source": [
    "import os\n",
    "key_list = list(os.environ.keys())[-9:]\n",
    "key_list"
   ]
  },
  {
   "cell_type": "markdown",
   "metadata": {
    "heading_collapsed": true
   },
   "source": [
    "# Get the Value From the 'os.environ' System"
   ]
  },
  {
   "cell_type": "markdown",
   "metadata": {
    "hidden": true
   },
   "source": [
    "**Description**"
   ]
  },
  {
   "cell_type": "markdown",
   "metadata": {
    "hidden": true
   },
   "source": [
    "Help on function get in module craftsperson_env.__main__:\n",
    "\n",
    "get(key: str, value_type: Any = <class 'str'>, default: Any = None) -> str\n",
    "    This function retrieves the value associated with the key from the 'os.environ' system.\n",
    "    \n",
    "    Parameters\n",
    "    ----------\n",
    "    key: str\n",
    "        This parameter retrieves the key from the 'os.environ' system.\n",
    "    value_type: str, optional.\n",
    "        This parameter accepts value types such as int, str, list, dict, and others. The default value is str.\n",
    "    default: Any, optional.\n",
    "        This parameter retrieves the default value if the key is not found in any environment variables.\n",
    "            The default is None.\n",
    "    \n",
    "    Returns\n",
    "    -------\n",
    "    value:\n",
    "        This returns the value of the given environment variable key.\n"
   ]
  },
  {
   "cell_type": "markdown",
   "metadata": {
    "hidden": true
   },
   "source": [
    "Additionally, it specifies the data type when retrieving data from 'os.environ' to access data of that type. For example, value_type gets int, float, str, dict and other types."
   ]
  },
  {
   "cell_type": "code",
   "execution_count": 13,
   "metadata": {
    "ExecuteTime": {
     "end_time": "2024-02-07T21:47:34.868927Z",
     "start_time": "2024-02-07T21:47:34.862866Z"
    },
    "hidden": true
   },
   "outputs": [
    {
     "name": "stdout",
     "output_type": "stream",
     "text": [
      "boolean: True\n",
      "float: 2.0\n",
      "str: MyWebApp\n",
      "json: {'test': 1}\n"
     ]
    }
   ],
   "source": [
    "print(\"boolean:\", config.get(key=\"application.options.use_ssl\", value_type=bool, default=None))\n",
    "print(\"float:\", config.get(key=\"version\", value_type=float, default=None))\n",
    "print(\"str:\", config.get(key=\"application.name\", value_type=str, default=None))\n",
    "print(\"json:\", config.get(key=\"json_format\", value_type=dict, default=None))"
   ]
  },
  {
   "cell_type": "markdown",
   "metadata": {
    "heading_collapsed": true
   },
   "source": [
    "# Set and Update the Value in the 'os.environ' System."
   ]
  },
  {
   "cell_type": "markdown",
   "metadata": {
    "hidden": true
   },
   "source": [
    "**Description**"
   ]
  },
  {
   "cell_type": "markdown",
   "metadata": {
    "ExecuteTime": {
     "end_time": "2024-02-07T21:55:39.020649Z",
     "start_time": "2024-02-07T21:55:39.015739Z"
    },
    "hidden": true
   },
   "source": [
    "Help on function set in module craftsperson_env.__main__:\n",
    "\n",
    "set(key: str, value: str) -> None\n",
    "    This function sets a key-value pair in the 'os.environ' system.\n",
    "    \n",
    "    Parameters\n",
    "    ----------\n",
    "    key: str\n",
    "        This parameter specifies the key to be set as an environment variable.\n",
    "    value: str\n",
    "        This parameter specifies the value that will be stored in\n",
    "            the environment variable identified by the given key.\n",
    "    \n",
    "    Returns\n",
    "    -------\n",
    "    None."
   ]
  },
  {
   "cell_type": "code",
   "execution_count": 16,
   "metadata": {
    "ExecuteTime": {
     "end_time": "2024-02-07T21:51:31.203925Z",
     "start_time": "2024-02-07T21:51:31.200232Z"
    },
    "hidden": true
   },
   "outputs": [],
   "source": [
    "config.set(key=\"int_value\", value=\"1923\")"
   ]
  },
  {
   "cell_type": "code",
   "execution_count": 17,
   "metadata": {
    "ExecuteTime": {
     "end_time": "2024-02-07T21:51:46.688590Z",
     "start_time": "2024-02-07T21:51:46.684213Z"
    },
    "hidden": true
   },
   "outputs": [
    {
     "name": "stdout",
     "output_type": "stream",
     "text": [
      "int: 1923\n"
     ]
    }
   ],
   "source": [
    "print(\"int:\", config.get(key=\"int_value\", value_type=int, default=None))"
   ]
  },
  {
   "cell_type": "markdown",
   "metadata": {
    "heading_collapsed": true
   },
   "source": [
    "# Author's Social Media"
   ]
  },
  {
   "cell_type": "markdown",
   "metadata": {
    "hidden": true
   },
   "source": [
    "* Gmail: celalakcelikk@gmail.com\n",
    "* Linkedin: https://www.linkedin.com/in/celalakcelik/\n",
    "* Github: https://github.com/celalakcelikk\n",
    "* Kaggle: https://www.kaggle.com/celalakcelik"
   ]
  },
  {
   "cell_type": "code",
   "execution_count": null,
   "metadata": {
    "hidden": true
   },
   "outputs": [],
   "source": []
  }
 ],
 "metadata": {
  "kernelspec": {
   "display_name": "Python 3 (ipykernel)",
   "language": "python",
   "name": "python3"
  },
  "language_info": {
   "codemirror_mode": {
    "name": "ipython",
    "version": 3
   },
   "file_extension": ".py",
   "mimetype": "text/x-python",
   "name": "python",
   "nbconvert_exporter": "python",
   "pygments_lexer": "ipython3",
   "version": "3.10.13"
  },
  "toc": {
   "base_numbering": 1,
   "nav_menu": {},
   "number_sections": true,
   "sideBar": true,
   "skip_h1_title": false,
   "title_cell": "Table of Contents",
   "title_sidebar": "Contents",
   "toc_cell": false,
   "toc_position": {},
   "toc_section_display": true,
   "toc_window_display": true
  },
  "varInspector": {
   "cols": {
    "lenName": 16,
    "lenType": 16,
    "lenVar": 40
   },
   "kernels_config": {
    "python": {
     "delete_cmd_postfix": "",
     "delete_cmd_prefix": "del ",
     "library": "var_list.py",
     "varRefreshCmd": "print(var_dic_list())"
    },
    "r": {
     "delete_cmd_postfix": ") ",
     "delete_cmd_prefix": "rm(",
     "library": "var_list.r",
     "varRefreshCmd": "cat(var_dic_list()) "
    }
   },
   "types_to_exclude": [
    "module",
    "function",
    "builtin_function_or_method",
    "instance",
    "_Feature"
   ],
   "window_display": false
  }
 },
 "nbformat": 4,
 "nbformat_minor": 2
}
