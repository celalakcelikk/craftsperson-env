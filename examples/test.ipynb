{
 "cells": [
  {
   "cell_type": "code",
   "execution_count": 1,
   "metadata": {},
   "outputs": [],
   "source": [
    "from craftsperson_env import CraftsPersonEnvConfigHandler\n",
    "import os\n",
    "config = CraftsPersonEnvConfigHandler()"
   ]
  },
  {
   "cell_type": "code",
   "execution_count": 2,
   "metadata": {},
   "outputs": [],
   "source": [
    "config.use_config_file(\n",
    "                        file_path=\"dev.xml\",\n",
    "                        base_dir = \"./\",\n",
    "                        naming_case_join_type = \".\",\n",
    "                        upper_lower= \"upper\",\n",
    "                        is_remove_xml_first_level=True\n",
    "                        )"
   ]
  },
  {
   "cell_type": "code",
   "execution_count": 3,
   "metadata": {},
   "outputs": [
    {
     "data": {
      "text/plain": [
       "['COMMAND_MODE',\n",
       " 'CONDA_DEFAULT_ENV',\n",
       " 'CONDA_EXE',\n",
       " 'CONDA_PREFIX',\n",
       " 'CONDA_PROMPT_MODIFIER',\n",
       " 'CONDA_PYTHON_EXE',\n",
       " 'CONDA_SHLVL',\n",
       " 'HOME',\n",
       " 'HOMEBREW_CELLAR',\n",
       " 'HOMEBREW_PREFIX',\n",
       " 'HOMEBREW_REPOSITORY',\n",
       " 'INFOPATH',\n",
       " 'LOGNAME',\n",
       " 'LaunchInstanceID',\n",
       " 'MANPATH',\n",
       " 'MallocNanoZone',\n",
       " 'OLDPWD',\n",
       " 'ORIGINAL_XDG_CURRENT_DESKTOP',\n",
       " 'PATH',\n",
       " 'PWD',\n",
       " 'SECURITYSESSIONID',\n",
       " 'SHELL',\n",
       " 'SHLVL',\n",
       " 'SSH_AUTH_SOCK',\n",
       " 'TMPDIR',\n",
       " 'USER',\n",
       " 'VSCODE_AMD_ENTRYPOINT',\n",
       " 'VSCODE_CODE_CACHE_PATH',\n",
       " 'VSCODE_CRASH_REPORTER_PROCESS_TYPE',\n",
       " 'VSCODE_CWD',\n",
       " 'VSCODE_HANDLES_UNCAUGHT_ERRORS',\n",
       " 'VSCODE_IPC_HOOK',\n",
       " 'VSCODE_NLS_CONFIG',\n",
       " 'VSCODE_PID',\n",
       " 'XPC_FLAGS',\n",
       " 'XPC_SERVICE_NAME',\n",
       " '_',\n",
       " '__CFBundleIdentifier',\n",
       " '__CF_USER_TEXT_ENCODING',\n",
       " 'ELECTRON_RUN_AS_NODE',\n",
       " 'VSCODE_L10N_BUNDLE_LOCATION',\n",
       " 'APPLICATION_INSIGHTS_NO_DIAGNOSTIC_CHANNEL',\n",
       " 'PYTHONUNBUFFERED',\n",
       " 'PYTHONIOENCODING',\n",
       " '_CE_CONDA',\n",
       " 'CONDA_PREFIX_1',\n",
       " 'CONDA_ROOT',\n",
       " '_CE_M',\n",
       " 'LC_CTYPE',\n",
       " 'PYDEVD_IPYTHON_COMPATIBLE_DEBUGGING',\n",
       " 'PYDEVD_USE_FRAME_EVAL',\n",
       " 'TERM',\n",
       " 'CLICOLOR',\n",
       " 'FORCE_COLOR',\n",
       " 'CLICOLOR_FORCE',\n",
       " 'PAGER',\n",
       " 'GIT_PAGER',\n",
       " 'MPLBACKEND',\n",
       " 'VERSION',\n",
       " 'APPLICATION.NAME',\n",
       " 'APPLICATION.VERSION',\n",
       " 'APPLICATION.ENVIRONMENT',\n",
       " 'APPLICATION.BASE_URL',\n",
       " 'APPLICATION.ALLOWED_HOSTS.HOST',\n",
       " 'APPLICATION.OPTIONS.USE_SSL',\n",
       " 'APPLICATION.OPTIONS.SSL_CERT']"
      ]
     },
     "execution_count": 3,
     "metadata": {},
     "output_type": "execute_result"
    }
   ],
   "source": [
    "import os\n",
    "list(os.environ.keys())"
   ]
  },
  {
   "cell_type": "code",
   "execution_count": 9,
   "metadata": {},
   "outputs": [
    {
     "data": {
      "text/plain": [
       "True"
      ]
     },
     "execution_count": 9,
     "metadata": {},
     "output_type": "execute_result"
    }
   ],
   "source": [
    "config.get(\"APPLICATION.OPTIONS.USE_SSL\", bool)"
   ]
  },
  {
   "cell_type": "code",
   "execution_count": 27,
   "metadata": {},
   "outputs": [
    {
     "name": "stdout",
     "output_type": "stream",
     "text": [
      "True\n"
     ]
    }
   ],
   "source": [
    "config.use_config_file(\n",
    "                        file_path=\"dev.xml\",\n",
    "                        base_dir = \"./\",\n",
    "                        naming_case_type = \"camel\",\n",
    "                        naming_case_join_type = \".\",\n",
    "                        upper_lower= \"upper\"\n",
    "                        )"
   ]
  },
  {
   "cell_type": "code",
   "execution_count": 28,
   "metadata": {},
   "outputs": [
    {
     "name": "stdout",
     "output_type": "stream",
     "text": [
      "['MYDOCUMENT-AND-MANY', 'MYDOCUMENT-PLUS-@A', 'MYDOCUMENT-PLUS-#TEXT']\n"
     ]
    }
   ],
   "source": [
    "config = CraftsPersonEnvConfigHandler()\n",
    "config.use_config_file(\n",
    "                        file_path=\"dev.xml\",\n",
    "                        base_dir=\"./\",\n",
    "    naming_case_type=\"cobol\",\n",
    "                        )\n",
    "\n",
    "print(list(os.environ.keys())[-3:])"
   ]
  },
  {
   "cell_type": "code",
   "execution_count": 30,
   "metadata": {},
   "outputs": [
    {
     "data": {
      "text/plain": [
       "\"['elements', 'more elements']\""
      ]
     },
     "execution_count": 30,
     "metadata": {},
     "output_type": "execute_result"
    }
   ],
   "source": [
    "os.getenv(\"MYDOCUMENT-AND-MANY\")"
   ]
  },
  {
   "cell_type": "code",
   "execution_count": 19,
   "metadata": {},
   "outputs": [
    {
     "data": {
      "text/plain": [
       "'element as well'"
      ]
     },
     "execution_count": 19,
     "metadata": {},
     "output_type": "execute_result"
    }
   ],
   "source": [
    "config_dict[\"mydocument\"][\"plus\"][\"#text\"]"
   ]
  },
  {
   "cell_type": "code",
   "execution_count": 17,
   "metadata": {},
   "outputs": [
    {
     "name": "stdout",
     "output_type": "stream",
     "text": [
      "None\n"
     ]
    }
   ],
   "source": [
    "print(config.get(\"mydocument.plus.#text\"))"
   ]
  },
  {
   "cell_type": "code",
   "execution_count": 28,
   "metadata": {},
   "outputs": [
    {
     "data": {
      "text/plain": [
       "['COMMAND_MODE',\n",
       " 'CONDA_DEFAULT_ENV',\n",
       " 'CONDA_EXE',\n",
       " 'CONDA_PREFIX',\n",
       " 'CONDA_PROMPT_MODIFIER',\n",
       " 'CONDA_PYTHON_EXE',\n",
       " 'CONDA_SHLVL',\n",
       " 'HOME',\n",
       " 'HOMEBREW_CELLAR',\n",
       " 'HOMEBREW_PREFIX',\n",
       " 'HOMEBREW_REPOSITORY',\n",
       " 'INFOPATH',\n",
       " 'LOGNAME',\n",
       " 'LaunchInstanceID',\n",
       " 'MANPATH',\n",
       " 'MallocNanoZone',\n",
       " 'OLDPWD',\n",
       " 'ORIGINAL_XDG_CURRENT_DESKTOP',\n",
       " 'PATH',\n",
       " 'PWD',\n",
       " 'SECURITYSESSIONID',\n",
       " 'SHELL',\n",
       " 'SHLVL',\n",
       " 'SSH_AUTH_SOCK',\n",
       " 'TMPDIR',\n",
       " 'USER',\n",
       " 'VSCODE_AMD_ENTRYPOINT',\n",
       " 'VSCODE_CODE_CACHE_PATH',\n",
       " 'VSCODE_CRASH_REPORTER_PROCESS_TYPE',\n",
       " 'VSCODE_CWD',\n",
       " 'VSCODE_HANDLES_UNCAUGHT_ERRORS',\n",
       " 'VSCODE_IPC_HOOK',\n",
       " 'VSCODE_NLS_CONFIG',\n",
       " 'VSCODE_PID',\n",
       " 'XPC_FLAGS',\n",
       " 'XPC_SERVICE_NAME',\n",
       " '_',\n",
       " '__CFBundleIdentifier',\n",
       " '__CF_USER_TEXT_ENCODING',\n",
       " 'ELECTRON_RUN_AS_NODE',\n",
       " 'VSCODE_L10N_BUNDLE_LOCATION',\n",
       " 'APPLICATION_INSIGHTS_NO_DIAGNOSTIC_CHANNEL',\n",
       " 'PYTHONUNBUFFERED',\n",
       " 'PYTHONIOENCODING',\n",
       " '_CE_CONDA',\n",
       " 'CONDA_PREFIX_1',\n",
       " 'CONDA_ROOT',\n",
       " '_CE_M',\n",
       " 'LC_CTYPE',\n",
       " 'PYDEVD_IPYTHON_COMPATIBLE_DEBUGGING',\n",
       " 'PYDEVD_USE_FRAME_EVAL',\n",
       " 'TERM',\n",
       " 'CLICOLOR',\n",
       " 'FORCE_COLOR',\n",
       " 'CLICOLOR_FORCE',\n",
       " 'PAGER',\n",
       " 'GIT_PAGER',\n",
       " 'MPLBACKEND',\n",
       " 'defaultDriver_base_path',\n",
       " 'defaultFile_operationFile_remove_th_day',\n",
       " 'loggerName',\n",
       " 'loggerFolder_path',\n",
       " 'loggerFile_name',\n",
       " 'loggerHandlerWhen',\n",
       " 'loggerHandlerInterval',\n",
       " 'loggerHandlerBackup_count',\n",
       " 'loggerFmt',\n",
       " 'loggerFmt_style',\n",
       " 'loggerSet_level',\n",
       " 'emailHost',\n",
       " 'emailPort',\n",
       " 'emailFrom_user',\n",
       " 'emailTo_users',\n",
       " 'emailSubject',\n",
       " 'emailError_body',\n",
       " 'emailInfo_body',\n",
       " 'databasesSqlVarchar_default_value',\n",
       " 'databasesSqlMssqlConnectorx_connection_string',\n",
       " 'databasesSqlMssqlSqlalchemy_connection_string',\n",
       " 'databasesSqlMssqlUse_with_auth',\n",
       " 'databasesSqlMssqlQuery_file_end_type',\n",
       " 'databasesSqlMssqlDbTitanicServer',\n",
       " 'databasesSqlMssqlDbTitanicPort',\n",
       " 'databasesSqlMssqlDbTitanicDatabase',\n",
       " 'databasesSqlMssqlDbTitanicUsername',\n",
       " 'databasesSqlMssqlDbTitanicPassword',\n",
       " 'databasesSqlMysqlConnectorx_connection_string',\n",
       " 'databasesSqlMysqlSqlalchemy_connection_string',\n",
       " 'databasesSqlMysqlUse_with_auth',\n",
       " 'databasesSqlMysqlQuery_file_end_type',\n",
       " 'databasesSqlMysqlDbTitanicServer',\n",
       " 'databasesSqlMysqlDbTitanicPort',\n",
       " 'databasesSqlMysqlDbTitanicDatabase',\n",
       " 'databasesSqlMysqlDbTitanicUsername',\n",
       " 'databasesSqlMysqlDbTitanicPassword',\n",
       " 'databasesSqlOracleConnectorx_connection_string',\n",
       " 'databasesSqlOracleSqlalchemy_connection_string',\n",
       " 'databasesSqlOracleUse_with_auth',\n",
       " 'databasesSqlOracleQuery_file_end_type',\n",
       " 'databasesSqlOracleClient_folder_name',\n",
       " 'databasesSqlOracleDbTitanicServer',\n",
       " 'databasesSqlOracleDbTitanicPort',\n",
       " 'databasesSqlOracleDbTitanicDatabase',\n",
       " 'databasesSqlOracleDbTitanicUsername',\n",
       " 'databasesSqlOracleDbTitanicPassword',\n",
       " 'databasesSqlPostgresConnectorx_connection_string',\n",
       " 'databasesSqlPostgresSqlalchemy_connection_string',\n",
       " 'databasesSqlPostgresUse_with_auth',\n",
       " 'databasesSqlPostgresQuery_file_end_type',\n",
       " 'databasesSqlPostgresDbTitanicServer',\n",
       " 'databasesSqlPostgresDbTitanicPort',\n",
       " 'databasesSqlPostgresDbTitanicDatabase',\n",
       " 'databasesSqlPostgresDbTitanicUsername',\n",
       " 'databasesSqlPostgresDbTitanicPassword',\n",
       " 'databasesSqlSqliteConnectorx_connection_string',\n",
       " 'databasesSqlSqliteSqlalchemy_connection_string',\n",
       " 'databasesSqlSqliteQuery_file_end_type',\n",
       " 'databasesSqlSqliteDbTitanicServer',\n",
       " 'databasesSqlTeradataSqlalchemy_connection_string',\n",
       " 'databasesSqlTeradataUse_with_auth',\n",
       " 'databasesSqlTeradataQuery_file_end_type',\n",
       " 'databasesSqlTeradataDbTitanicServer',\n",
       " 'databasesSqlTeradataDbTitanicPort',\n",
       " 'databasesSqlTeradataDbTitanicDatabase',\n",
       " 'databasesSqlTeradataDbTitanicUsername',\n",
       " 'databasesSqlTeradataDbTitanicPassword',\n",
       " 'databasesNosqlMongodbHost',\n",
       " 'databasesNosqlMongodbPort',\n",
       " 'databasesNosqlMongodbCollectionSales_pathPath_name',\n",
       " 'databasesNosqlMongodbCollectionSales_pathCollection_main_name',\n",
       " 'databasesNosqlMongodbCollectionTraffic_pathPath_name',\n",
       " 'databasesNosqlMongodbUse_with_authConnection_string',\n",
       " 'databasesNosqlMongodbUse_with_authUsername',\n",
       " 'databasesNosqlMongodbUse_with_authPassword',\n",
       " 'databasesNosqlMongodbUse_without_authConnection_string',\n",
       " 'queriesSqlCommonDelete',\n",
       " 'queriesSqlCommonDrop_table',\n",
       " 'queriesSqlCommonInsert',\n",
       " 'queriesSqlCommonTruncate_table',\n",
       " 'queriesSqlCommonUpdate',\n",
       " 'queriesSqlMysqlTitanicTest',\n",
       " 'queriesSqlOracleTitanicGender_submission',\n",
       " 'modulesDemand_forecastingModelsName',\n",
       " 'modulesDemand_forecastingModelsParameters',\n",
       " 'modulesDemand_forecastingQueriesMain_data',\n",
       " 'modulesDemand_forecastingTable_namesOutput_table_name',\n",
       " 'modulesRegressionQueriesMain_data',\n",
       " 'modulesRegressionTable_namesOutput_table_name',\n",
       " 'mydocument@has',\n",
       " 'mydocumentAndMany',\n",
       " 'mydocumentPlus@a',\n",
       " 'mydocumentPlus#text']"
      ]
     },
     "execution_count": 28,
     "metadata": {},
     "output_type": "execute_result"
    }
   ],
   "source": [
    "import os\n",
    "list(os.environ.keys())"
   ]
  },
  {
   "cell_type": "code",
   "execution_count": null,
   "metadata": {},
   "outputs": [],
   "source": []
  }
 ],
 "metadata": {
  "kernelspec": {
   "display_name": "craftsperson-env",
   "language": "python",
   "name": "python3"
  },
  "language_info": {
   "codemirror_mode": {
    "name": "ipython",
    "version": 3
   },
   "file_extension": ".py",
   "mimetype": "text/x-python",
   "name": "python",
   "nbconvert_exporter": "python",
   "pygments_lexer": "ipython3",
   "version": "3.10.13"
  }
 },
 "nbformat": 4,
 "nbformat_minor": 2
}
